{
 "cells": [
  {
   "cell_type": "code",
   "execution_count": 1,
   "id": "a7a0fc6d",
   "metadata": {},
   "outputs": [],
   "source": [
    "file = open(r\"C:\\Users\\Aishwarya\\OneDrive\\Desktop\\Deep Learning\\LSTM Model\\RHTDM.txt\")"
   ]
  },
  {
   "cell_type": "code",
   "execution_count": 2,
   "id": "f40a0f24",
   "metadata": {},
   "outputs": [
    {
     "data": {
      "text/plain": [
       "'Sach keh raha hai deewana dil\\nDil na kisi se lagaana\\nSach keh raha hai deewana dil\\nDil na kisi se lagaana\\nJhoothe hai yaar Ke wade saare\\nJhoothi hai Pyaar ki kasmein\\nMaine har lamha jisse\\nChaaha jisse pooja\\nUssi ne yaaron mera dil\\nToda toda tanha Tanha chhoda\\nSach keh raha hai deewana dil\\nDil na kisi se lagaana\\nJhoothe yaar ke wade saare\\nJhoothi hai pyaar ki kasmein\\nMaine har lamha jise\\nChaaha jise pooja\\nUssi ne yaaron mera dil\\nToda toda tanha tanha chhoda\\nMausam mausam\\nTha suhaana bada\\nMausam mausam\\nMaine dekha usse\\nHua main paagal\\nBas Pal bhar mein aah\\nMausam mausam\\nTha suhaana bada\\nMausam mausam\\nMaine dekha usse\\nHua main paagal\\nBas pal bhar mein\\nAake basi hai woh\\nMere mann mein\\nUski kami hai ab jeevan mein\\nWo door hai meri nazron se\\nKyoon usse main chaahoon ?\\nOh, sach keh raha\\nHai deewana dil\\nDil na kisi se lagaana\\nJhoothe hai yaar ke wade saare\\nJhoothi hai pyaar ki kasmein\\nMaine har lamha jise\\nChaaha jise pooja\\nUssi ne yaaron mera dil\\nToda toda tanha tanha chhoda\\nSundar sundar wo haseena badi\\nSundar sundar main to khone laga\\nUske nashe mein bin\\nPiye behaka aah\\nSundar sundar wo haseena badi\\nSundar sundar main to khone laga\\nUske nashe mein bin\\nPiye behaka\\nEk din usse bhoola doonga main\\nUske nishaan mita doonga main\\nChaahoonga na\\nMain us patthar ko\\nJaa usse bata de\\nLalla lai lai lai lai la le\\nLalla lai lai lai lai la\\nLalla lai lai lai lai la le\\nLalla lai lai lai lai la\\nMaine har lamha jisse\\nChaaha jisse pooja\\nUssi ne yaaron mera dil\\nToda toda tanha tanha chhodaa'"
      ]
     },
     "execution_count": 2,
     "metadata": {},
     "output_type": "execute_result"
    }
   ],
   "source": [
    "Q = file.read()\n",
    "Q"
   ]
  },
  {
   "cell_type": "markdown",
   "id": "2d356b15",
   "metadata": {},
   "source": [
    "# remove New line chars"
   ]
  },
  {
   "cell_type": "code",
   "execution_count": 3,
   "id": "d56cfe0c",
   "metadata": {},
   "outputs": [],
   "source": [
    "from re import sub\n",
    "Q = sub(\"[\\n]\",\" \",Q)\n",
    "Q = sub(\"[^a-zA-Z0-9 ]\",\"\",Q)"
   ]
  },
  {
   "cell_type": "code",
   "execution_count": 4,
   "id": "1aa20e43",
   "metadata": {},
   "outputs": [
    {
     "data": {
      "text/plain": [
       "'Sach keh raha hai deewana dil Dil na kisi se lagaana Sach keh raha hai deewana dil Dil na kisi se lagaana Jhoothe hai yaar Ke wade saare Jhoothi hai Pyaar ki kasmein Maine har lamha jisse Chaaha jisse pooja Ussi ne yaaron mera dil Toda toda tanha Tanha chhoda Sach keh raha hai deewana dil Dil na kisi se lagaana Jhoothe yaar ke wade saare Jhoothi hai pyaar ki kasmein Maine har lamha jise Chaaha jise pooja Ussi ne yaaron mera dil Toda toda tanha tanha chhoda Mausam mausam Tha suhaana bada Mausam mausam Maine dekha usse Hua main paagal Bas Pal bhar mein aah Mausam mausam Tha suhaana bada Mausam mausam Maine dekha usse Hua main paagal Bas pal bhar mein Aake basi hai woh Mere mann mein Uski kami hai ab jeevan mein Wo door hai meri nazron se Kyoon usse main chaahoon  Oh sach keh raha Hai deewana dil Dil na kisi se lagaana Jhoothe hai yaar ke wade saare Jhoothi hai pyaar ki kasmein Maine har lamha jise Chaaha jise pooja Ussi ne yaaron mera dil Toda toda tanha tanha chhoda Sundar sundar wo haseena badi Sundar sundar main to khone laga Uske nashe mein bin Piye behaka aah Sundar sundar wo haseena badi Sundar sundar main to khone laga Uske nashe mein bin Piye behaka Ek din usse bhoola doonga main Uske nishaan mita doonga main Chaahoonga na Main us patthar ko Jaa usse bata de Lalla lai lai lai lai la le Lalla lai lai lai lai la Lalla lai lai lai lai la le Lalla lai lai lai lai la Maine har lamha jisse Chaaha jisse pooja Ussi ne yaaron mera dil Toda toda tanha tanha chhodaa'"
      ]
     },
     "execution_count": 4,
     "metadata": {},
     "output_type": "execute_result"
    }
   ],
   "source": [
    "Q"
   ]
  },
  {
   "cell_type": "markdown",
   "id": "22877fd6",
   "metadata": {},
   "source": [
    "# Unify cases and Tokenizing"
   ]
  },
  {
   "cell_type": "code",
   "execution_count": 5,
   "id": "18b4de8e",
   "metadata": {},
   "outputs": [],
   "source": [
    "Q = Q.upper().split(\" \")"
   ]
  },
  {
   "cell_type": "code",
   "execution_count": 6,
   "id": "ed7faa60",
   "metadata": {},
   "outputs": [
    {
     "data": {
      "text/plain": [
       "['SACH',\n",
       " 'KEH',\n",
       " 'RAHA',\n",
       " 'HAI',\n",
       " 'DEEWANA',\n",
       " 'DIL',\n",
       " 'DIL',\n",
       " 'NA',\n",
       " 'KISI',\n",
       " 'SE',\n",
       " 'LAGAANA',\n",
       " 'SACH',\n",
       " 'KEH',\n",
       " 'RAHA',\n",
       " 'HAI',\n",
       " 'DEEWANA',\n",
       " 'DIL',\n",
       " 'DIL',\n",
       " 'NA',\n",
       " 'KISI',\n",
       " 'SE',\n",
       " 'LAGAANA',\n",
       " 'JHOOTHE',\n",
       " 'HAI',\n",
       " 'YAAR',\n",
       " 'KE',\n",
       " 'WADE',\n",
       " 'SAARE',\n",
       " 'JHOOTHI',\n",
       " 'HAI',\n",
       " 'PYAAR',\n",
       " 'KI',\n",
       " 'KASMEIN',\n",
       " 'MAINE',\n",
       " 'HAR',\n",
       " 'LAMHA',\n",
       " 'JISSE',\n",
       " 'CHAAHA',\n",
       " 'JISSE',\n",
       " 'POOJA',\n",
       " 'USSI',\n",
       " 'NE',\n",
       " 'YAARON',\n",
       " 'MERA',\n",
       " 'DIL',\n",
       " 'TODA',\n",
       " 'TODA',\n",
       " 'TANHA',\n",
       " 'TANHA',\n",
       " 'CHHODA',\n",
       " 'SACH',\n",
       " 'KEH',\n",
       " 'RAHA',\n",
       " 'HAI',\n",
       " 'DEEWANA',\n",
       " 'DIL',\n",
       " 'DIL',\n",
       " 'NA',\n",
       " 'KISI',\n",
       " 'SE',\n",
       " 'LAGAANA',\n",
       " 'JHOOTHE',\n",
       " 'YAAR',\n",
       " 'KE',\n",
       " 'WADE',\n",
       " 'SAARE',\n",
       " 'JHOOTHI',\n",
       " 'HAI',\n",
       " 'PYAAR',\n",
       " 'KI',\n",
       " 'KASMEIN',\n",
       " 'MAINE',\n",
       " 'HAR',\n",
       " 'LAMHA',\n",
       " 'JISE',\n",
       " 'CHAAHA',\n",
       " 'JISE',\n",
       " 'POOJA',\n",
       " 'USSI',\n",
       " 'NE',\n",
       " 'YAARON',\n",
       " 'MERA',\n",
       " 'DIL',\n",
       " 'TODA',\n",
       " 'TODA',\n",
       " 'TANHA',\n",
       " 'TANHA',\n",
       " 'CHHODA',\n",
       " 'MAUSAM',\n",
       " 'MAUSAM',\n",
       " 'THA',\n",
       " 'SUHAANA',\n",
       " 'BADA',\n",
       " 'MAUSAM',\n",
       " 'MAUSAM',\n",
       " 'MAINE',\n",
       " 'DEKHA',\n",
       " 'USSE',\n",
       " 'HUA',\n",
       " 'MAIN',\n",
       " 'PAAGAL',\n",
       " 'BAS',\n",
       " 'PAL',\n",
       " 'BHAR',\n",
       " 'MEIN',\n",
       " 'AAH',\n",
       " 'MAUSAM',\n",
       " 'MAUSAM',\n",
       " 'THA',\n",
       " 'SUHAANA',\n",
       " 'BADA',\n",
       " 'MAUSAM',\n",
       " 'MAUSAM',\n",
       " 'MAINE',\n",
       " 'DEKHA',\n",
       " 'USSE',\n",
       " 'HUA',\n",
       " 'MAIN',\n",
       " 'PAAGAL',\n",
       " 'BAS',\n",
       " 'PAL',\n",
       " 'BHAR',\n",
       " 'MEIN',\n",
       " 'AAKE',\n",
       " 'BASI',\n",
       " 'HAI',\n",
       " 'WOH',\n",
       " 'MERE',\n",
       " 'MANN',\n",
       " 'MEIN',\n",
       " 'USKI',\n",
       " 'KAMI',\n",
       " 'HAI',\n",
       " 'AB',\n",
       " 'JEEVAN',\n",
       " 'MEIN',\n",
       " 'WO',\n",
       " 'DOOR',\n",
       " 'HAI',\n",
       " 'MERI',\n",
       " 'NAZRON',\n",
       " 'SE',\n",
       " 'KYOON',\n",
       " 'USSE',\n",
       " 'MAIN',\n",
       " 'CHAAHOON',\n",
       " '',\n",
       " 'OH',\n",
       " 'SACH',\n",
       " 'KEH',\n",
       " 'RAHA',\n",
       " 'HAI',\n",
       " 'DEEWANA',\n",
       " 'DIL',\n",
       " 'DIL',\n",
       " 'NA',\n",
       " 'KISI',\n",
       " 'SE',\n",
       " 'LAGAANA',\n",
       " 'JHOOTHE',\n",
       " 'HAI',\n",
       " 'YAAR',\n",
       " 'KE',\n",
       " 'WADE',\n",
       " 'SAARE',\n",
       " 'JHOOTHI',\n",
       " 'HAI',\n",
       " 'PYAAR',\n",
       " 'KI',\n",
       " 'KASMEIN',\n",
       " 'MAINE',\n",
       " 'HAR',\n",
       " 'LAMHA',\n",
       " 'JISE',\n",
       " 'CHAAHA',\n",
       " 'JISE',\n",
       " 'POOJA',\n",
       " 'USSI',\n",
       " 'NE',\n",
       " 'YAARON',\n",
       " 'MERA',\n",
       " 'DIL',\n",
       " 'TODA',\n",
       " 'TODA',\n",
       " 'TANHA',\n",
       " 'TANHA',\n",
       " 'CHHODA',\n",
       " 'SUNDAR',\n",
       " 'SUNDAR',\n",
       " 'WO',\n",
       " 'HASEENA',\n",
       " 'BADI',\n",
       " 'SUNDAR',\n",
       " 'SUNDAR',\n",
       " 'MAIN',\n",
       " 'TO',\n",
       " 'KHONE',\n",
       " 'LAGA',\n",
       " 'USKE',\n",
       " 'NASHE',\n",
       " 'MEIN',\n",
       " 'BIN',\n",
       " 'PIYE',\n",
       " 'BEHAKA',\n",
       " 'AAH',\n",
       " 'SUNDAR',\n",
       " 'SUNDAR',\n",
       " 'WO',\n",
       " 'HASEENA',\n",
       " 'BADI',\n",
       " 'SUNDAR',\n",
       " 'SUNDAR',\n",
       " 'MAIN',\n",
       " 'TO',\n",
       " 'KHONE',\n",
       " 'LAGA',\n",
       " 'USKE',\n",
       " 'NASHE',\n",
       " 'MEIN',\n",
       " 'BIN',\n",
       " 'PIYE',\n",
       " 'BEHAKA',\n",
       " 'EK',\n",
       " 'DIN',\n",
       " 'USSE',\n",
       " 'BHOOLA',\n",
       " 'DOONGA',\n",
       " 'MAIN',\n",
       " 'USKE',\n",
       " 'NISHAAN',\n",
       " 'MITA',\n",
       " 'DOONGA',\n",
       " 'MAIN',\n",
       " 'CHAAHOONGA',\n",
       " 'NA',\n",
       " 'MAIN',\n",
       " 'US',\n",
       " 'PATTHAR',\n",
       " 'KO',\n",
       " 'JAA',\n",
       " 'USSE',\n",
       " 'BATA',\n",
       " 'DE',\n",
       " 'LALLA',\n",
       " 'LAI',\n",
       " 'LAI',\n",
       " 'LAI',\n",
       " 'LAI',\n",
       " 'LA',\n",
       " 'LE',\n",
       " 'LALLA',\n",
       " 'LAI',\n",
       " 'LAI',\n",
       " 'LAI',\n",
       " 'LAI',\n",
       " 'LA',\n",
       " 'LALLA',\n",
       " 'LAI',\n",
       " 'LAI',\n",
       " 'LAI',\n",
       " 'LAI',\n",
       " 'LA',\n",
       " 'LE',\n",
       " 'LALLA',\n",
       " 'LAI',\n",
       " 'LAI',\n",
       " 'LAI',\n",
       " 'LAI',\n",
       " 'LA',\n",
       " 'MAINE',\n",
       " 'HAR',\n",
       " 'LAMHA',\n",
       " 'JISSE',\n",
       " 'CHAAHA',\n",
       " 'JISSE',\n",
       " 'POOJA',\n",
       " 'USSI',\n",
       " 'NE',\n",
       " 'YAARON',\n",
       " 'MERA',\n",
       " 'DIL',\n",
       " 'TODA',\n",
       " 'TODA',\n",
       " 'TANHA',\n",
       " 'TANHA',\n",
       " 'CHHODAA']"
      ]
     },
     "execution_count": 6,
     "metadata": {},
     "output_type": "execute_result"
    }
   ],
   "source": [
    "Q"
   ]
  },
  {
   "cell_type": "markdown",
   "id": "c1adaab9",
   "metadata": {},
   "source": [
    "# Convert data in 3-->1 format"
   ]
  },
  {
   "cell_type": "code",
   "execution_count": 7,
   "id": "bdb10e38",
   "metadata": {},
   "outputs": [],
   "source": [
    "inp = []\n",
    "op = []\n",
    "for i in range(3,len(Q),1):\n",
    "    w1 = Q[i-3]\n",
    "    w2 = Q[i-2]\n",
    "    w3 = Q[i-1]\n",
    "    w4 = Q[i]\n",
    "    inp.append(w1 + \" \" + w2 + \" \" + w3)\n",
    "    op.append(w4)"
   ]
  },
  {
   "cell_type": "code",
   "execution_count": 8,
   "id": "e5986bd4",
   "metadata": {},
   "outputs": [
    {
     "data": {
      "text/plain": [
       "['SACH KEH RAHA',\n",
       " 'KEH RAHA HAI',\n",
       " 'RAHA HAI DEEWANA',\n",
       " 'HAI DEEWANA DIL',\n",
       " 'DEEWANA DIL DIL',\n",
       " 'DIL DIL NA',\n",
       " 'DIL NA KISI',\n",
       " 'NA KISI SE',\n",
       " 'KISI SE LAGAANA',\n",
       " 'SE LAGAANA SACH',\n",
       " 'LAGAANA SACH KEH',\n",
       " 'SACH KEH RAHA',\n",
       " 'KEH RAHA HAI',\n",
       " 'RAHA HAI DEEWANA',\n",
       " 'HAI DEEWANA DIL',\n",
       " 'DEEWANA DIL DIL',\n",
       " 'DIL DIL NA',\n",
       " 'DIL NA KISI',\n",
       " 'NA KISI SE',\n",
       " 'KISI SE LAGAANA',\n",
       " 'SE LAGAANA JHOOTHE',\n",
       " 'LAGAANA JHOOTHE HAI',\n",
       " 'JHOOTHE HAI YAAR',\n",
       " 'HAI YAAR KE',\n",
       " 'YAAR KE WADE',\n",
       " 'KE WADE SAARE',\n",
       " 'WADE SAARE JHOOTHI',\n",
       " 'SAARE JHOOTHI HAI',\n",
       " 'JHOOTHI HAI PYAAR',\n",
       " 'HAI PYAAR KI',\n",
       " 'PYAAR KI KASMEIN',\n",
       " 'KI KASMEIN MAINE',\n",
       " 'KASMEIN MAINE HAR',\n",
       " 'MAINE HAR LAMHA',\n",
       " 'HAR LAMHA JISSE',\n",
       " 'LAMHA JISSE CHAAHA',\n",
       " 'JISSE CHAAHA JISSE',\n",
       " 'CHAAHA JISSE POOJA',\n",
       " 'JISSE POOJA USSI',\n",
       " 'POOJA USSI NE',\n",
       " 'USSI NE YAARON',\n",
       " 'NE YAARON MERA',\n",
       " 'YAARON MERA DIL',\n",
       " 'MERA DIL TODA',\n",
       " 'DIL TODA TODA',\n",
       " 'TODA TODA TANHA',\n",
       " 'TODA TANHA TANHA',\n",
       " 'TANHA TANHA CHHODA',\n",
       " 'TANHA CHHODA SACH',\n",
       " 'CHHODA SACH KEH',\n",
       " 'SACH KEH RAHA',\n",
       " 'KEH RAHA HAI',\n",
       " 'RAHA HAI DEEWANA',\n",
       " 'HAI DEEWANA DIL',\n",
       " 'DEEWANA DIL DIL',\n",
       " 'DIL DIL NA',\n",
       " 'DIL NA KISI',\n",
       " 'NA KISI SE',\n",
       " 'KISI SE LAGAANA',\n",
       " 'SE LAGAANA JHOOTHE',\n",
       " 'LAGAANA JHOOTHE YAAR',\n",
       " 'JHOOTHE YAAR KE',\n",
       " 'YAAR KE WADE',\n",
       " 'KE WADE SAARE',\n",
       " 'WADE SAARE JHOOTHI',\n",
       " 'SAARE JHOOTHI HAI',\n",
       " 'JHOOTHI HAI PYAAR',\n",
       " 'HAI PYAAR KI',\n",
       " 'PYAAR KI KASMEIN',\n",
       " 'KI KASMEIN MAINE',\n",
       " 'KASMEIN MAINE HAR',\n",
       " 'MAINE HAR LAMHA',\n",
       " 'HAR LAMHA JISE',\n",
       " 'LAMHA JISE CHAAHA',\n",
       " 'JISE CHAAHA JISE',\n",
       " 'CHAAHA JISE POOJA',\n",
       " 'JISE POOJA USSI',\n",
       " 'POOJA USSI NE',\n",
       " 'USSI NE YAARON',\n",
       " 'NE YAARON MERA',\n",
       " 'YAARON MERA DIL',\n",
       " 'MERA DIL TODA',\n",
       " 'DIL TODA TODA',\n",
       " 'TODA TODA TANHA',\n",
       " 'TODA TANHA TANHA',\n",
       " 'TANHA TANHA CHHODA',\n",
       " 'TANHA CHHODA MAUSAM',\n",
       " 'CHHODA MAUSAM MAUSAM',\n",
       " 'MAUSAM MAUSAM THA',\n",
       " 'MAUSAM THA SUHAANA',\n",
       " 'THA SUHAANA BADA',\n",
       " 'SUHAANA BADA MAUSAM',\n",
       " 'BADA MAUSAM MAUSAM',\n",
       " 'MAUSAM MAUSAM MAINE',\n",
       " 'MAUSAM MAINE DEKHA',\n",
       " 'MAINE DEKHA USSE',\n",
       " 'DEKHA USSE HUA',\n",
       " 'USSE HUA MAIN',\n",
       " 'HUA MAIN PAAGAL',\n",
       " 'MAIN PAAGAL BAS',\n",
       " 'PAAGAL BAS PAL',\n",
       " 'BAS PAL BHAR',\n",
       " 'PAL BHAR MEIN',\n",
       " 'BHAR MEIN AAH',\n",
       " 'MEIN AAH MAUSAM',\n",
       " 'AAH MAUSAM MAUSAM',\n",
       " 'MAUSAM MAUSAM THA',\n",
       " 'MAUSAM THA SUHAANA',\n",
       " 'THA SUHAANA BADA',\n",
       " 'SUHAANA BADA MAUSAM',\n",
       " 'BADA MAUSAM MAUSAM',\n",
       " 'MAUSAM MAUSAM MAINE',\n",
       " 'MAUSAM MAINE DEKHA',\n",
       " 'MAINE DEKHA USSE',\n",
       " 'DEKHA USSE HUA',\n",
       " 'USSE HUA MAIN',\n",
       " 'HUA MAIN PAAGAL',\n",
       " 'MAIN PAAGAL BAS',\n",
       " 'PAAGAL BAS PAL',\n",
       " 'BAS PAL BHAR',\n",
       " 'PAL BHAR MEIN',\n",
       " 'BHAR MEIN AAKE',\n",
       " 'MEIN AAKE BASI',\n",
       " 'AAKE BASI HAI',\n",
       " 'BASI HAI WOH',\n",
       " 'HAI WOH MERE',\n",
       " 'WOH MERE MANN',\n",
       " 'MERE MANN MEIN',\n",
       " 'MANN MEIN USKI',\n",
       " 'MEIN USKI KAMI',\n",
       " 'USKI KAMI HAI',\n",
       " 'KAMI HAI AB',\n",
       " 'HAI AB JEEVAN',\n",
       " 'AB JEEVAN MEIN',\n",
       " 'JEEVAN MEIN WO',\n",
       " 'MEIN WO DOOR',\n",
       " 'WO DOOR HAI',\n",
       " 'DOOR HAI MERI',\n",
       " 'HAI MERI NAZRON',\n",
       " 'MERI NAZRON SE',\n",
       " 'NAZRON SE KYOON',\n",
       " 'SE KYOON USSE',\n",
       " 'KYOON USSE MAIN',\n",
       " 'USSE MAIN CHAAHOON',\n",
       " 'MAIN CHAAHOON ',\n",
       " 'CHAAHOON  OH',\n",
       " ' OH SACH',\n",
       " 'OH SACH KEH',\n",
       " 'SACH KEH RAHA',\n",
       " 'KEH RAHA HAI',\n",
       " 'RAHA HAI DEEWANA',\n",
       " 'HAI DEEWANA DIL',\n",
       " 'DEEWANA DIL DIL',\n",
       " 'DIL DIL NA',\n",
       " 'DIL NA KISI',\n",
       " 'NA KISI SE',\n",
       " 'KISI SE LAGAANA',\n",
       " 'SE LAGAANA JHOOTHE',\n",
       " 'LAGAANA JHOOTHE HAI',\n",
       " 'JHOOTHE HAI YAAR',\n",
       " 'HAI YAAR KE',\n",
       " 'YAAR KE WADE',\n",
       " 'KE WADE SAARE',\n",
       " 'WADE SAARE JHOOTHI',\n",
       " 'SAARE JHOOTHI HAI',\n",
       " 'JHOOTHI HAI PYAAR',\n",
       " 'HAI PYAAR KI',\n",
       " 'PYAAR KI KASMEIN',\n",
       " 'KI KASMEIN MAINE',\n",
       " 'KASMEIN MAINE HAR',\n",
       " 'MAINE HAR LAMHA',\n",
       " 'HAR LAMHA JISE',\n",
       " 'LAMHA JISE CHAAHA',\n",
       " 'JISE CHAAHA JISE',\n",
       " 'CHAAHA JISE POOJA',\n",
       " 'JISE POOJA USSI',\n",
       " 'POOJA USSI NE',\n",
       " 'USSI NE YAARON',\n",
       " 'NE YAARON MERA',\n",
       " 'YAARON MERA DIL',\n",
       " 'MERA DIL TODA',\n",
       " 'DIL TODA TODA',\n",
       " 'TODA TODA TANHA',\n",
       " 'TODA TANHA TANHA',\n",
       " 'TANHA TANHA CHHODA',\n",
       " 'TANHA CHHODA SUNDAR',\n",
       " 'CHHODA SUNDAR SUNDAR',\n",
       " 'SUNDAR SUNDAR WO',\n",
       " 'SUNDAR WO HASEENA',\n",
       " 'WO HASEENA BADI',\n",
       " 'HASEENA BADI SUNDAR',\n",
       " 'BADI SUNDAR SUNDAR',\n",
       " 'SUNDAR SUNDAR MAIN',\n",
       " 'SUNDAR MAIN TO',\n",
       " 'MAIN TO KHONE',\n",
       " 'TO KHONE LAGA',\n",
       " 'KHONE LAGA USKE',\n",
       " 'LAGA USKE NASHE',\n",
       " 'USKE NASHE MEIN',\n",
       " 'NASHE MEIN BIN',\n",
       " 'MEIN BIN PIYE',\n",
       " 'BIN PIYE BEHAKA',\n",
       " 'PIYE BEHAKA AAH',\n",
       " 'BEHAKA AAH SUNDAR',\n",
       " 'AAH SUNDAR SUNDAR',\n",
       " 'SUNDAR SUNDAR WO',\n",
       " 'SUNDAR WO HASEENA',\n",
       " 'WO HASEENA BADI',\n",
       " 'HASEENA BADI SUNDAR',\n",
       " 'BADI SUNDAR SUNDAR',\n",
       " 'SUNDAR SUNDAR MAIN',\n",
       " 'SUNDAR MAIN TO',\n",
       " 'MAIN TO KHONE',\n",
       " 'TO KHONE LAGA',\n",
       " 'KHONE LAGA USKE',\n",
       " 'LAGA USKE NASHE',\n",
       " 'USKE NASHE MEIN',\n",
       " 'NASHE MEIN BIN',\n",
       " 'MEIN BIN PIYE',\n",
       " 'BIN PIYE BEHAKA',\n",
       " 'PIYE BEHAKA EK',\n",
       " 'BEHAKA EK DIN',\n",
       " 'EK DIN USSE',\n",
       " 'DIN USSE BHOOLA',\n",
       " 'USSE BHOOLA DOONGA',\n",
       " 'BHOOLA DOONGA MAIN',\n",
       " 'DOONGA MAIN USKE',\n",
       " 'MAIN USKE NISHAAN',\n",
       " 'USKE NISHAAN MITA',\n",
       " 'NISHAAN MITA DOONGA',\n",
       " 'MITA DOONGA MAIN',\n",
       " 'DOONGA MAIN CHAAHOONGA',\n",
       " 'MAIN CHAAHOONGA NA',\n",
       " 'CHAAHOONGA NA MAIN',\n",
       " 'NA MAIN US',\n",
       " 'MAIN US PATTHAR',\n",
       " 'US PATTHAR KO',\n",
       " 'PATTHAR KO JAA',\n",
       " 'KO JAA USSE',\n",
       " 'JAA USSE BATA',\n",
       " 'USSE BATA DE',\n",
       " 'BATA DE LALLA',\n",
       " 'DE LALLA LAI',\n",
       " 'LALLA LAI LAI',\n",
       " 'LAI LAI LAI',\n",
       " 'LAI LAI LAI',\n",
       " 'LAI LAI LA',\n",
       " 'LAI LA LE',\n",
       " 'LA LE LALLA',\n",
       " 'LE LALLA LAI',\n",
       " 'LALLA LAI LAI',\n",
       " 'LAI LAI LAI',\n",
       " 'LAI LAI LAI',\n",
       " 'LAI LAI LA',\n",
       " 'LAI LA LALLA',\n",
       " 'LA LALLA LAI',\n",
       " 'LALLA LAI LAI',\n",
       " 'LAI LAI LAI',\n",
       " 'LAI LAI LAI',\n",
       " 'LAI LAI LA',\n",
       " 'LAI LA LE',\n",
       " 'LA LE LALLA',\n",
       " 'LE LALLA LAI',\n",
       " 'LALLA LAI LAI',\n",
       " 'LAI LAI LAI',\n",
       " 'LAI LAI LAI',\n",
       " 'LAI LAI LA',\n",
       " 'LAI LA MAINE',\n",
       " 'LA MAINE HAR',\n",
       " 'MAINE HAR LAMHA',\n",
       " 'HAR LAMHA JISSE',\n",
       " 'LAMHA JISSE CHAAHA',\n",
       " 'JISSE CHAAHA JISSE',\n",
       " 'CHAAHA JISSE POOJA',\n",
       " 'JISSE POOJA USSI',\n",
       " 'POOJA USSI NE',\n",
       " 'USSI NE YAARON',\n",
       " 'NE YAARON MERA',\n",
       " 'YAARON MERA DIL',\n",
       " 'MERA DIL TODA',\n",
       " 'DIL TODA TODA',\n",
       " 'TODA TODA TANHA',\n",
       " 'TODA TANHA TANHA']"
      ]
     },
     "execution_count": 8,
     "metadata": {},
     "output_type": "execute_result"
    }
   ],
   "source": [
    "inp"
   ]
  },
  {
   "cell_type": "markdown",
   "id": "2939185a",
   "metadata": {},
   "source": [
    "# Create Dataframe for the same"
   ]
  },
  {
   "cell_type": "code",
   "execution_count": 9,
   "id": "e43dad46",
   "metadata": {},
   "outputs": [],
   "source": [
    "import pandas as pd\n",
    "Q1 = pd.DataFrame([inp,op]).T"
   ]
  },
  {
   "cell_type": "code",
   "execution_count": 10,
   "id": "a566d787",
   "metadata": {},
   "outputs": [
    {
     "data": {
      "text/html": [
       "<div>\n",
       "<style scoped>\n",
       "    .dataframe tbody tr th:only-of-type {\n",
       "        vertical-align: middle;\n",
       "    }\n",
       "\n",
       "    .dataframe tbody tr th {\n",
       "        vertical-align: top;\n",
       "    }\n",
       "\n",
       "    .dataframe thead th {\n",
       "        text-align: right;\n",
       "    }\n",
       "</style>\n",
       "<table border=\"1\" class=\"dataframe\">\n",
       "  <thead>\n",
       "    <tr style=\"text-align: right;\">\n",
       "      <th></th>\n",
       "      <th>inp</th>\n",
       "      <th>op</th>\n",
       "    </tr>\n",
       "  </thead>\n",
       "  <tbody>\n",
       "    <tr>\n",
       "      <th>0</th>\n",
       "      <td>SACH KEH RAHA</td>\n",
       "      <td>HAI</td>\n",
       "    </tr>\n",
       "    <tr>\n",
       "      <th>1</th>\n",
       "      <td>KEH RAHA HAI</td>\n",
       "      <td>DEEWANA</td>\n",
       "    </tr>\n",
       "    <tr>\n",
       "      <th>2</th>\n",
       "      <td>RAHA HAI DEEWANA</td>\n",
       "      <td>DIL</td>\n",
       "    </tr>\n",
       "    <tr>\n",
       "      <th>3</th>\n",
       "      <td>HAI DEEWANA DIL</td>\n",
       "      <td>DIL</td>\n",
       "    </tr>\n",
       "    <tr>\n",
       "      <th>4</th>\n",
       "      <td>DEEWANA DIL DIL</td>\n",
       "      <td>NA</td>\n",
       "    </tr>\n",
       "    <tr>\n",
       "      <th>...</th>\n",
       "      <td>...</td>\n",
       "      <td>...</td>\n",
       "    </tr>\n",
       "    <tr>\n",
       "      <th>278</th>\n",
       "      <td>YAARON MERA DIL</td>\n",
       "      <td>TODA</td>\n",
       "    </tr>\n",
       "    <tr>\n",
       "      <th>279</th>\n",
       "      <td>MERA DIL TODA</td>\n",
       "      <td>TODA</td>\n",
       "    </tr>\n",
       "    <tr>\n",
       "      <th>280</th>\n",
       "      <td>DIL TODA TODA</td>\n",
       "      <td>TANHA</td>\n",
       "    </tr>\n",
       "    <tr>\n",
       "      <th>281</th>\n",
       "      <td>TODA TODA TANHA</td>\n",
       "      <td>TANHA</td>\n",
       "    </tr>\n",
       "    <tr>\n",
       "      <th>282</th>\n",
       "      <td>TODA TANHA TANHA</td>\n",
       "      <td>CHHODAA</td>\n",
       "    </tr>\n",
       "  </tbody>\n",
       "</table>\n",
       "<p>283 rows × 2 columns</p>\n",
       "</div>"
      ],
      "text/plain": [
       "                  inp       op\n",
       "0       SACH KEH RAHA      HAI\n",
       "1        KEH RAHA HAI  DEEWANA\n",
       "2    RAHA HAI DEEWANA      DIL\n",
       "3     HAI DEEWANA DIL      DIL\n",
       "4     DEEWANA DIL DIL       NA\n",
       "..                ...      ...\n",
       "278   YAARON MERA DIL     TODA\n",
       "279     MERA DIL TODA     TODA\n",
       "280     DIL TODA TODA    TANHA\n",
       "281   TODA TODA TANHA    TANHA\n",
       "282  TODA TANHA TANHA  CHHODAA\n",
       "\n",
       "[283 rows x 2 columns]"
      ]
     },
     "execution_count": 10,
     "metadata": {},
     "output_type": "execute_result"
    }
   ],
   "source": [
    "Q1.columns = [\"inp\" , \"op\"]\n",
    "Q1"
   ]
  },
  {
   "cell_type": "markdown",
   "id": "93202764",
   "metadata": {},
   "source": [
    "# Define Array for X"
   ]
  },
  {
   "cell_type": "code",
   "execution_count": 11,
   "id": "0bb4f1fa",
   "metadata": {},
   "outputs": [
    {
     "data": {
      "text/plain": [
       "283"
      ]
     },
     "execution_count": 11,
     "metadata": {},
     "output_type": "execute_result"
    }
   ],
   "source": [
    "len(inp)"
   ]
  },
  {
   "cell_type": "code",
   "execution_count": 12,
   "id": "1ef85403",
   "metadata": {},
   "outputs": [
    {
     "data": {
      "text/plain": [
       "93"
      ]
     },
     "execution_count": 12,
     "metadata": {},
     "output_type": "execute_result"
    }
   ],
   "source": [
    "from numpy import unique\n",
    "unique_words = list(unique(Q))\n",
    "len(unique_words)"
   ]
  },
  {
   "cell_type": "code",
   "execution_count": 13,
   "id": "33265f69",
   "metadata": {},
   "outputs": [
    {
     "data": {
      "text/plain": [
       "['',\n",
       " 'AAH',\n",
       " 'AAKE',\n",
       " 'AB',\n",
       " 'BADA',\n",
       " 'BADI',\n",
       " 'BAS',\n",
       " 'BASI',\n",
       " 'BATA',\n",
       " 'BEHAKA',\n",
       " 'BHAR',\n",
       " 'BHOOLA',\n",
       " 'BIN',\n",
       " 'CHAAHA',\n",
       " 'CHAAHOON',\n",
       " 'CHAAHOONGA',\n",
       " 'CHHODA',\n",
       " 'CHHODAA',\n",
       " 'DE',\n",
       " 'DEEWANA',\n",
       " 'DEKHA',\n",
       " 'DIL',\n",
       " 'DIN',\n",
       " 'DOONGA',\n",
       " 'DOOR',\n",
       " 'EK',\n",
       " 'HAI',\n",
       " 'HAR',\n",
       " 'HASEENA',\n",
       " 'HUA',\n",
       " 'JAA',\n",
       " 'JEEVAN',\n",
       " 'JHOOTHE',\n",
       " 'JHOOTHI',\n",
       " 'JISE',\n",
       " 'JISSE',\n",
       " 'KAMI',\n",
       " 'KASMEIN',\n",
       " 'KE',\n",
       " 'KEH',\n",
       " 'KHONE',\n",
       " 'KI',\n",
       " 'KISI',\n",
       " 'KO',\n",
       " 'KYOON',\n",
       " 'LA',\n",
       " 'LAGA',\n",
       " 'LAGAANA',\n",
       " 'LAI',\n",
       " 'LALLA',\n",
       " 'LAMHA',\n",
       " 'LE',\n",
       " 'MAIN',\n",
       " 'MAINE',\n",
       " 'MANN',\n",
       " 'MAUSAM',\n",
       " 'MEIN',\n",
       " 'MERA',\n",
       " 'MERE',\n",
       " 'MERI',\n",
       " 'MITA',\n",
       " 'NA',\n",
       " 'NASHE',\n",
       " 'NAZRON',\n",
       " 'NE',\n",
       " 'NISHAAN',\n",
       " 'OH',\n",
       " 'PAAGAL',\n",
       " 'PAL',\n",
       " 'PATTHAR',\n",
       " 'PIYE',\n",
       " 'POOJA',\n",
       " 'PYAAR',\n",
       " 'RAHA',\n",
       " 'SAARE',\n",
       " 'SACH',\n",
       " 'SE',\n",
       " 'SUHAANA',\n",
       " 'SUNDAR',\n",
       " 'TANHA',\n",
       " 'THA',\n",
       " 'TO',\n",
       " 'TODA',\n",
       " 'US',\n",
       " 'USKE',\n",
       " 'USKI',\n",
       " 'USSE',\n",
       " 'USSI',\n",
       " 'WADE',\n",
       " 'WO',\n",
       " 'WOH',\n",
       " 'YAAR',\n",
       " 'YAARON']"
      ]
     },
     "execution_count": 13,
     "metadata": {},
     "output_type": "execute_result"
    }
   ],
   "source": [
    "unique_words"
   ]
  },
  {
   "cell_type": "code",
   "execution_count": 14,
   "id": "b2723572",
   "metadata": {},
   "outputs": [
    {
     "data": {
      "text/plain": [
       "93"
      ]
     },
     "execution_count": 14,
     "metadata": {},
     "output_type": "execute_result"
    }
   ],
   "source": [
    "len(unique_words)"
   ]
  },
  {
   "cell_type": "code",
   "execution_count": 15,
   "id": "6d5f7289",
   "metadata": {},
   "outputs": [],
   "source": [
    "from numpy import zeros\n",
    "from numpy import zeros\n",
    "X = zeros((283,93,3))"
   ]
  },
  {
   "cell_type": "code",
   "execution_count": 16,
   "id": "c543b3a1",
   "metadata": {},
   "outputs": [
    {
     "data": {
      "text/plain": [
       "array([[[0., 0., 0.],\n",
       "        [0., 0., 0.],\n",
       "        [0., 0., 0.],\n",
       "        ...,\n",
       "        [0., 0., 0.],\n",
       "        [0., 0., 0.],\n",
       "        [0., 0., 0.]],\n",
       "\n",
       "       [[0., 0., 0.],\n",
       "        [0., 0., 0.],\n",
       "        [0., 0., 0.],\n",
       "        ...,\n",
       "        [0., 0., 0.],\n",
       "        [0., 0., 0.],\n",
       "        [0., 0., 0.]],\n",
       "\n",
       "       [[0., 0., 0.],\n",
       "        [0., 0., 0.],\n",
       "        [0., 0., 0.],\n",
       "        ...,\n",
       "        [0., 0., 0.],\n",
       "        [0., 0., 0.],\n",
       "        [0., 0., 0.]],\n",
       "\n",
       "       ...,\n",
       "\n",
       "       [[0., 0., 0.],\n",
       "        [0., 0., 0.],\n",
       "        [0., 0., 0.],\n",
       "        ...,\n",
       "        [0., 0., 0.],\n",
       "        [0., 0., 0.],\n",
       "        [0., 0., 0.]],\n",
       "\n",
       "       [[0., 0., 0.],\n",
       "        [0., 0., 0.],\n",
       "        [0., 0., 0.],\n",
       "        ...,\n",
       "        [0., 0., 0.],\n",
       "        [0., 0., 0.],\n",
       "        [0., 0., 0.]],\n",
       "\n",
       "       [[0., 0., 0.],\n",
       "        [0., 0., 0.],\n",
       "        [0., 0., 0.],\n",
       "        ...,\n",
       "        [0., 0., 0.],\n",
       "        [0., 0., 0.],\n",
       "        [0., 0., 0.]]])"
      ]
     },
     "execution_count": 16,
     "metadata": {},
     "output_type": "execute_result"
    }
   ],
   "source": [
    "X"
   ]
  },
  {
   "cell_type": "markdown",
   "id": "61a78ed2",
   "metadata": {},
   "source": [
    "# fill data in Blank array X"
   ]
  },
  {
   "cell_type": "code",
   "execution_count": 17,
   "id": "bb329dd7",
   "metadata": {},
   "outputs": [],
   "source": [
    "for line_no, line in enumerate(inp):\n",
    "    for word_no,word in enumerate(line.split(\" \")):\n",
    "        X[line_no,unique_words.index(word),word_no] = 1"
   ]
  },
  {
   "cell_type": "markdown",
   "id": "2b0251b3",
   "metadata": {},
   "source": [
    "# Cross check(\"LAGAANA\")"
   ]
  },
  {
   "cell_type": "code",
   "execution_count": 18,
   "id": "68fc9fdc",
   "metadata": {},
   "outputs": [
    {
     "data": {
      "text/plain": [
       "1.0"
      ]
     },
     "execution_count": 18,
     "metadata": {},
     "output_type": "execute_result"
    }
   ],
   "source": [
    "X[8,47,2]"
   ]
  },
  {
   "cell_type": "code",
   "execution_count": 19,
   "id": "54d00d48",
   "metadata": {},
   "outputs": [
    {
     "data": {
      "text/plain": [
       "47"
      ]
     },
     "execution_count": 19,
     "metadata": {},
     "output_type": "execute_result"
    }
   ],
   "source": [
    "unique_words.index(\"LAGAANA\")\n"
   ]
  },
  {
   "cell_type": "code",
   "execution_count": 20,
   "id": "4435c409",
   "metadata": {},
   "outputs": [],
   "source": [
    "#inp"
   ]
  },
  {
   "cell_type": "markdown",
   "id": "17afad51",
   "metadata": {},
   "source": [
    "# Prepare Output"
   ]
  },
  {
   "cell_type": "code",
   "execution_count": 21,
   "id": "fbc7bf10",
   "metadata": {},
   "outputs": [],
   "source": [
    "Y = zeros((283,93))\n",
    "for line_no, word in enumerate(list(Q1.op)):\n",
    "    Y[line_no,unique_words.index(word)]=1"
   ]
  },
  {
   "cell_type": "code",
   "execution_count": 22,
   "id": "78817740",
   "metadata": {},
   "outputs": [
    {
     "data": {
      "text/plain": [
       "array([[0., 0., 0., ..., 0., 0., 0.],\n",
       "       [0., 0., 0., ..., 0., 0., 0.],\n",
       "       [0., 0., 0., ..., 0., 0., 0.],\n",
       "       ...,\n",
       "       [0., 0., 0., ..., 0., 0., 0.],\n",
       "       [0., 0., 0., ..., 0., 0., 0.],\n",
       "       [0., 0., 0., ..., 0., 0., 0.]])"
      ]
     },
     "execution_count": 22,
     "metadata": {},
     "output_type": "execute_result"
    }
   ],
   "source": [
    "Y"
   ]
  },
  {
   "cell_type": "markdown",
   "id": "5e526a4c",
   "metadata": {},
   "source": [
    "# Verify (\"RAHA)"
   ]
  },
  {
   "cell_type": "code",
   "execution_count": 23,
   "id": "820e5ef7",
   "metadata": {},
   "outputs": [
    {
     "data": {
      "text/plain": [
       "73"
      ]
     },
     "execution_count": 23,
     "metadata": {},
     "output_type": "execute_result"
    }
   ],
   "source": [
    "unique_words.index(\"RAHA\")"
   ]
  },
  {
   "cell_type": "code",
   "execution_count": 24,
   "id": "dde5a35e",
   "metadata": {},
   "outputs": [
    {
     "data": {
      "text/plain": [
       "1.0"
      ]
     },
     "execution_count": 24,
     "metadata": {},
     "output_type": "execute_result"
    }
   ],
   "source": [
    "Y[10,73]"
   ]
  },
  {
   "cell_type": "code",
   "execution_count": 25,
   "id": "6f3ab448",
   "metadata": {},
   "outputs": [
    {
     "data": {
      "text/plain": [
       "['',\n",
       " 'AAH',\n",
       " 'AAKE',\n",
       " 'AB',\n",
       " 'BADA',\n",
       " 'BADI',\n",
       " 'BAS',\n",
       " 'BASI',\n",
       " 'BATA',\n",
       " 'BEHAKA',\n",
       " 'BHAR',\n",
       " 'BHOOLA',\n",
       " 'BIN',\n",
       " 'CHAAHA',\n",
       " 'CHAAHOON',\n",
       " 'CHAAHOONGA',\n",
       " 'CHHODA',\n",
       " 'CHHODAA',\n",
       " 'DE',\n",
       " 'DEEWANA',\n",
       " 'DEKHA',\n",
       " 'DIL',\n",
       " 'DIN',\n",
       " 'DOONGA',\n",
       " 'DOOR',\n",
       " 'EK',\n",
       " 'HAI',\n",
       " 'HAR',\n",
       " 'HASEENA',\n",
       " 'HUA',\n",
       " 'JAA',\n",
       " 'JEEVAN',\n",
       " 'JHOOTHE',\n",
       " 'JHOOTHI',\n",
       " 'JISE',\n",
       " 'JISSE',\n",
       " 'KAMI',\n",
       " 'KASMEIN',\n",
       " 'KE',\n",
       " 'KEH',\n",
       " 'KHONE',\n",
       " 'KI',\n",
       " 'KISI',\n",
       " 'KO',\n",
       " 'KYOON',\n",
       " 'LA',\n",
       " 'LAGA',\n",
       " 'LAGAANA',\n",
       " 'LAI',\n",
       " 'LALLA',\n",
       " 'LAMHA',\n",
       " 'LE',\n",
       " 'MAIN',\n",
       " 'MAINE',\n",
       " 'MANN',\n",
       " 'MAUSAM',\n",
       " 'MEIN',\n",
       " 'MERA',\n",
       " 'MERE',\n",
       " 'MERI',\n",
       " 'MITA',\n",
       " 'NA',\n",
       " 'NASHE',\n",
       " 'NAZRON',\n",
       " 'NE',\n",
       " 'NISHAAN',\n",
       " 'OH',\n",
       " 'PAAGAL',\n",
       " 'PAL',\n",
       " 'PATTHAR',\n",
       " 'PIYE',\n",
       " 'POOJA',\n",
       " 'PYAAR',\n",
       " 'RAHA',\n",
       " 'SAARE',\n",
       " 'SACH',\n",
       " 'SE',\n",
       " 'SUHAANA',\n",
       " 'SUNDAR',\n",
       " 'TANHA',\n",
       " 'THA',\n",
       " 'TO',\n",
       " 'TODA',\n",
       " 'US',\n",
       " 'USKE',\n",
       " 'USKI',\n",
       " 'USSE',\n",
       " 'USSI',\n",
       " 'WADE',\n",
       " 'WO',\n",
       " 'WOH',\n",
       " 'YAAR',\n",
       " 'YAARON']"
      ]
     },
     "execution_count": 25,
     "metadata": {},
     "output_type": "execute_result"
    }
   ],
   "source": [
    "unique_words"
   ]
  },
  {
   "cell_type": "markdown",
   "id": "2e1e32ca",
   "metadata": {},
   "source": [
    "# Create LSTM Model"
   ]
  },
  {
   "cell_type": "code",
   "execution_count": 26,
   "id": "c9215d31",
   "metadata": {},
   "outputs": [],
   "source": [
    "from keras.models import Sequential\n",
    "from keras.layers import Dense,Dropout,LSTM\n",
    "from keras.layers.core import Activation"
   ]
  },
  {
   "cell_type": "code",
   "execution_count": 34,
   "id": "89f28981",
   "metadata": {},
   "outputs": [
    {
     "data": {
      "text/plain": [
       "(283, 93, 3)"
      ]
     },
     "execution_count": 34,
     "metadata": {},
     "output_type": "execute_result"
    }
   ],
   "source": [
    "X.shape"
   ]
  },
  {
   "cell_type": "code",
   "execution_count": 35,
   "id": "cdeb33a8",
   "metadata": {},
   "outputs": [
    {
     "data": {
      "text/plain": [
       "78957"
      ]
     },
     "execution_count": 35,
     "metadata": {},
     "output_type": "execute_result"
    }
   ],
   "source": [
    "X.size"
   ]
  },
  {
   "cell_type": "code",
   "execution_count": 59,
   "id": "c8b3741d",
   "metadata": {},
   "outputs": [],
   "source": [
    "nn = Sequential()\n",
    "nn.add(LSTM(100,input_shape=(93,3)))\n",
    "nn.add(Dense(93))\n",
    "nn.add(Activation(\"softmax\"))"
   ]
  },
  {
   "cell_type": "code",
   "execution_count": 60,
   "id": "5a577664",
   "metadata": {},
   "outputs": [
    {
     "name": "stdout",
     "output_type": "stream",
     "text": [
      "Epoch 1/30\n",
      "7/7 [==============================] - 6s 278ms/step - loss: 4.5308 - accuracy: 0.0354 - val_loss: 4.5374 - val_accuracy: 0.0118\n",
      "Epoch 2/30\n",
      "7/7 [==============================] - 1s 118ms/step - loss: 4.5162 - accuracy: 0.0657 - val_loss: 4.5498 - val_accuracy: 0.0118\n",
      "Epoch 3/30\n",
      "7/7 [==============================] - 1s 116ms/step - loss: 4.4492 - accuracy: 0.0606 - val_loss: 5.0456 - val_accuracy: 0.0000e+00\n",
      "Epoch 4/30\n",
      "7/7 [==============================] - 1s 117ms/step - loss: 4.2711 - accuracy: 0.0606 - val_loss: 5.2810 - val_accuracy: 0.0000e+00\n",
      "Epoch 5/30\n",
      "7/7 [==============================] - 1s 115ms/step - loss: 4.1877 - accuracy: 0.0657 - val_loss: 5.3565 - val_accuracy: 0.0118\n",
      "Epoch 6/30\n",
      "7/7 [==============================] - 1s 118ms/step - loss: 4.1558 - accuracy: 0.0505 - val_loss: 5.4918 - val_accuracy: 0.0118\n",
      "Epoch 7/30\n",
      "7/7 [==============================] - 1s 117ms/step - loss: 4.1246 - accuracy: 0.0606 - val_loss: 5.7368 - val_accuracy: 0.0000e+00\n",
      "Epoch 8/30\n",
      "7/7 [==============================] - 1s 117ms/step - loss: 4.0982 - accuracy: 0.0606 - val_loss: 5.9399 - val_accuracy: 0.0118\n",
      "Epoch 9/30\n",
      "7/7 [==============================] - 1s 118ms/step - loss: 4.0864 - accuracy: 0.0556 - val_loss: 6.0234 - val_accuracy: 0.0118\n",
      "Epoch 10/30\n",
      "7/7 [==============================] - 1s 116ms/step - loss: 4.0862 - accuracy: 0.0556 - val_loss: 6.1127 - val_accuracy: 0.0118\n",
      "Epoch 11/30\n",
      "7/7 [==============================] - 1s 118ms/step - loss: 4.0863 - accuracy: 0.0556 - val_loss: 6.1201 - val_accuracy: 0.0118\n",
      "Epoch 12/30\n",
      "7/7 [==============================] - 1s 118ms/step - loss: 4.0801 - accuracy: 0.0556 - val_loss: 6.1811 - val_accuracy: 0.0118\n",
      "Epoch 13/30\n",
      "7/7 [==============================] - 1s 116ms/step - loss: 4.0730 - accuracy: 0.0556 - val_loss: 6.2840 - val_accuracy: 0.0118\n",
      "Epoch 14/30\n",
      "7/7 [==============================] - 1s 119ms/step - loss: 4.0703 - accuracy: 0.0404 - val_loss: 6.3436 - val_accuracy: 0.0118\n",
      "Epoch 15/30\n",
      "7/7 [==============================] - 1s 115ms/step - loss: 4.0706 - accuracy: 0.0556 - val_loss: 6.4021 - val_accuracy: 0.0118\n",
      "Epoch 16/30\n",
      "7/7 [==============================] - 1s 118ms/step - loss: 4.0704 - accuracy: 0.0556 - val_loss: 6.4249 - val_accuracy: 0.0118\n",
      "Epoch 17/30\n",
      "7/7 [==============================] - 1s 116ms/step - loss: 4.0667 - accuracy: 0.0556 - val_loss: 6.4137 - val_accuracy: 0.0118\n",
      "Epoch 18/30\n",
      "7/7 [==============================] - 1s 120ms/step - loss: 4.0660 - accuracy: 0.0556 - val_loss: 6.4382 - val_accuracy: 0.0118\n",
      "Epoch 19/30\n",
      "7/7 [==============================] - 1s 119ms/step - loss: 4.0694 - accuracy: 0.0556 - val_loss: 6.4962 - val_accuracy: 0.0118\n",
      "Epoch 20/30\n",
      "7/7 [==============================] - 1s 117ms/step - loss: 4.0648 - accuracy: 0.0707 - val_loss: 6.5671 - val_accuracy: 0.0118\n",
      "Epoch 21/30\n",
      "7/7 [==============================] - 1s 115ms/step - loss: 4.0646 - accuracy: 0.0758 - val_loss: 6.6589 - val_accuracy: 0.0118\n",
      "Epoch 22/30\n",
      "7/7 [==============================] - 1s 117ms/step - loss: 4.0636 - accuracy: 0.0758 - val_loss: 6.7095 - val_accuracy: 0.0118\n",
      "Epoch 23/30\n",
      "7/7 [==============================] - 1s 120ms/step - loss: 4.0577 - accuracy: 0.0758 - val_loss: 6.7285 - val_accuracy: 0.0118\n",
      "Epoch 24/30\n",
      "7/7 [==============================] - 1s 119ms/step - loss: 4.0583 - accuracy: 0.0707 - val_loss: 6.7102 - val_accuracy: 0.0118\n",
      "Epoch 25/30\n",
      "7/7 [==============================] - 1s 117ms/step - loss: 4.0594 - accuracy: 0.0455 - val_loss: 6.7286 - val_accuracy: 0.0118\n",
      "Epoch 26/30\n",
      "7/7 [==============================] - 1s 117ms/step - loss: 4.0614 - accuracy: 0.0758 - val_loss: 6.8056 - val_accuracy: 0.0118\n",
      "Epoch 27/30\n",
      "7/7 [==============================] - 1s 119ms/step - loss: 4.0573 - accuracy: 0.0707 - val_loss: 6.8115 - val_accuracy: 0.0118\n",
      "Epoch 28/30\n",
      "7/7 [==============================] - 1s 117ms/step - loss: 4.0584 - accuracy: 0.0556 - val_loss: 6.8036 - val_accuracy: 0.0118\n",
      "Epoch 29/30\n",
      "7/7 [==============================] - 1s 117ms/step - loss: 4.0577 - accuracy: 0.0556 - val_loss: 6.7777 - val_accuracy: 0.0118\n",
      "Epoch 30/30\n",
      "7/7 [==============================] - 1s 119ms/step - loss: 4.0539 - accuracy: 0.0556 - val_loss: 6.8039 - val_accuracy: 0.0118\n"
     ]
    }
   ],
   "source": [
    "nn.compile(loss=\"categorical_crossentropy\",metrics=\"accuracy\",optimizer=\"adam\")\n",
    "model = nn.fit(X,Y,validation_split=0.3,epochs=30)"
   ]
  },
  {
   "cell_type": "code",
   "execution_count": 44,
   "id": "aa1faa07",
   "metadata": {},
   "outputs": [
    {
     "data": {
      "text/plain": [
       "[<matplotlib.lines.Line2D at 0x22eeb4e5c10>]"
      ]
     },
     "execution_count": 44,
     "metadata": {},
     "output_type": "execute_result"
    },
    {
     "data": {
      "image/png": "[encoded data removed]",
      "text/plain": [
       "<Figure size 432x288 with 1 Axes>"
      ]
     },
     "metadata": {
      "needs_background": "light"
     },
     "output_type": "display_data"
    }
   ],
   "source": [
    "acc = model.history['accuracy']\n",
    "val_acc = model.history['val_accuracy']\n",
    "\n",
    "import matplotlib.pyplot as plt\n",
    "plt.plot(acc)\n",
    "plt.plot(val_acc)"
   ]
  },
  {
   "cell_type": "markdown",
   "id": "7560a0d3",
   "metadata": {},
   "source": [
    "# Testing"
   ]
  },
  {
   "cell_type": "code",
   "execution_count": 51,
   "id": "5e5afa09",
   "metadata": {},
   "outputs": [
    {
     "name": "stdout",
     "output_type": "stream",
     "text": [
      "Enter words(3) : Sach Keh Raha\n"
     ]
    }
   ],
   "source": [
    "ip = input(\"Enter words(3) : \").upper()\n",
    "ip = sub(\"[^a-zA-Z0-9 ]\",\"\",ip)\n",
    "if(len(ip.split(\" \")) != 3):\n",
    "    print(\"Renter data(3 words only)\")"
   ]
  },
  {
   "cell_type": "code",
   "execution_count": 52,
   "id": "dbdfacd2",
   "metadata": {},
   "outputs": [
    {
     "name": "stdout",
     "output_type": "stream",
     "text": [
      "1/1 [==============================] - 0s 50ms/step\n"
     ]
    },
    {
     "data": {
      "text/plain": [
       "'HAI'"
      ]
     },
     "execution_count": 52,
     "metadata": {},
     "output_type": "execute_result"
    }
   ],
   "source": [
    "inp_X = zeros((1,93,3))\n",
    "for word_no,word in enumerate(ip.split(\" \")):\n",
    "    inp_X[0,unique_words.index(word),word_no] = 1\n",
    "\n",
    "prob = nn.predict(inp_X)\n",
    "from numpy import argmax\n",
    "unique_words[argmax(prob)]"
   ]
  },
  {
   "cell_type": "code",
   "execution_count": 48,
   "id": "d27663f4",
   "metadata": {},
   "outputs": [
    {
     "data": {
      "text/html": [
       "<div>\n",
       "<style scoped>\n",
       "    .dataframe tbody tr th:only-of-type {\n",
       "        vertical-align: middle;\n",
       "    }\n",
       "\n",
       "    .dataframe tbody tr th {\n",
       "        vertical-align: top;\n",
       "    }\n",
       "\n",
       "    .dataframe thead th {\n",
       "        text-align: right;\n",
       "    }\n",
       "</style>\n",
       "<table border=\"1\" class=\"dataframe\">\n",
       "  <thead>\n",
       "    <tr style=\"text-align: right;\">\n",
       "      <th></th>\n",
       "      <th>Word</th>\n",
       "      <th>Prob</th>\n",
       "    </tr>\n",
       "  </thead>\n",
       "  <tbody>\n",
       "    <tr>\n",
       "      <th>26</th>\n",
       "      <td>HAI</td>\n",
       "      <td>0.07811</td>\n",
       "    </tr>\n",
       "    <tr>\n",
       "      <th>21</th>\n",
       "      <td>DIL</td>\n",
       "      <td>0.060536</td>\n",
       "    </tr>\n",
       "    <tr>\n",
       "      <th>55</th>\n",
       "      <td>MAUSAM</td>\n",
       "      <td>0.040099</td>\n",
       "    </tr>\n",
       "    <tr>\n",
       "      <th>79</th>\n",
       "      <td>TANHA</td>\n",
       "      <td>0.03235</td>\n",
       "    </tr>\n",
       "    <tr>\n",
       "      <th>56</th>\n",
       "      <td>MEIN</td>\n",
       "      <td>0.029721</td>\n",
       "    </tr>\n",
       "    <tr>\n",
       "      <th>...</th>\n",
       "      <td>...</td>\n",
       "      <td>...</td>\n",
       "    </tr>\n",
       "    <tr>\n",
       "      <th>8</th>\n",
       "      <td>BATA</td>\n",
       "      <td>0.000092</td>\n",
       "    </tr>\n",
       "    <tr>\n",
       "      <th>15</th>\n",
       "      <td>CHAAHOONGA</td>\n",
       "      <td>0.000091</td>\n",
       "    </tr>\n",
       "    <tr>\n",
       "      <th>22</th>\n",
       "      <td>DIN</td>\n",
       "      <td>0.000089</td>\n",
       "    </tr>\n",
       "    <tr>\n",
       "      <th>83</th>\n",
       "      <td>US</td>\n",
       "      <td>0.000081</td>\n",
       "    </tr>\n",
       "    <tr>\n",
       "      <th>11</th>\n",
       "      <td>BHOOLA</td>\n",
       "      <td>0.000063</td>\n",
       "    </tr>\n",
       "  </tbody>\n",
       "</table>\n",
       "<p>93 rows × 2 columns</p>\n",
       "</div>"
      ],
      "text/plain": [
       "          Word      Prob\n",
       "26         HAI   0.07811\n",
       "21         DIL  0.060536\n",
       "55      MAUSAM  0.040099\n",
       "79       TANHA   0.03235\n",
       "56        MEIN  0.029721\n",
       "..         ...       ...\n",
       "8         BATA  0.000092\n",
       "15  CHAAHOONGA  0.000091\n",
       "22         DIN  0.000089\n",
       "83          US  0.000081\n",
       "11      BHOOLA  0.000063\n",
       "\n",
       "[93 rows x 2 columns]"
      ]
     },
     "execution_count": 48,
     "metadata": {},
     "output_type": "execute_result"
    }
   ],
   "source": [
    "W = pd.DataFrame([unique_words,prob[0]]).T\n",
    "W.columns = [\"Word\",\"Prob\"]\n",
    "W.sort_values(by=\"Prob\",ascending=False)"
   ]
  },
  {
   "cell_type": "code",
   "execution_count": null,
   "id": "548b8fef",
   "metadata": {},
   "outputs": [],
   "source": []
  }
 ],
 "metadata": {
  "kernelspec": {
   "display_name": "Python 3 (ipykernel)",
   "language": "python",
   "name": "python3"
  },
  "language_info": {
   "codemirror_mode": {
    "name": "ipython",
    "version": 3
   },
   "file_extension": ".py",
   "mimetype": "text/x-python",
   "name": "python",
   "nbconvert_exporter": "python",
   "pygments_lexer": "ipython3",
   "version": "3.9.12"
  }
 },
 "nbformat": 4,
 "nbformat_minor": 5
}
